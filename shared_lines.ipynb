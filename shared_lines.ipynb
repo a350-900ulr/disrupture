{
 "cells": [
  {
   "metadata": {
    "ExecuteTime": {
     "end_time": "2025-07-12T23:19:54.936736Z",
     "start_time": "2025-07-12T23:19:54.930781Z"
    }
   },
   "cell_type": "code",
   "source": [
    "\"\"\"\n",
    "This was an extra side-project notebook counts how many different lines each line connects to.\n",
    "This also attempts to find a lines \"best friend\", being the line they share the most stations\n",
    "with the criteria being sharing at least 4 stations & not having multiple best friends.\n",
    "The main result is the table printed at the very bottom.\n",
    "\"\"\"\n",
    "\n",
    "import os\n",
    "from TransitGraph import TransitGraph\n",
    "\n",
    "tg = TransitGraph()"
   ],
   "id": "dbb6465160d1713f",
   "outputs": [],
   "execution_count": 36
  },
  {
   "metadata": {
    "ExecuteTime": {
     "end_time": "2025-07-12T23:19:54.959157Z",
     "start_time": "2025-07-12T23:19:54.953193Z"
    }
   },
   "cell_type": "code",
   "source": [
    "class Line:\n",
    "\t\"\"\"\n",
    "\tClass to hold information about each line, mainly the number of shared stations they have\n",
    "\twith each other line.\n",
    "\t\"\"\"\n",
    "\tdef __init__(self, input_name: str):\n",
    "\t\tself.name = input_name  # name of line\n",
    "\t\tself.stations: list[str] = []  # list of its own stations\n",
    "\t\t# each other line & the number of shared stations with this line\n",
    "\t\tself.counts: dict[str, int] = {}\n",
    "\t\t# total number of other lines that this line connects with,\n",
    "\t\t# being equivalent to `len(self.counts)`\n",
    "\t\tself.friends = 0\n",
    "\t\tself.best_friend: str = 'None'  # name of line with most shared stations\n",
    "\t\t# number of stations this line shares with the best friend\n",
    "\t\tself.best_friend_stations: int = 0\n",
    "\t\t# whether the best friend has different best friend themselves\n",
    "\t\t# (thus not mutual best friends)\n",
    "\t\tself.best_friend_fake = False\n",
    "\n",
    "\tdef add_count(self, new_line_name: str):\n",
    "\t\t\"\"\"\n",
    "\t\tAdds a specific connection to the respective line. This will automatically create a new\n",
    "\t\tentry or increment the number of connections.\n",
    "\t\t\"\"\"\n",
    "\t\t#print(f'{self.name} is now getting {new_line_name}')\n",
    "\t\tif new_line_name in self.counts.keys():\n",
    "\n",
    "\t\t\tself.counts[new_line_name] += 1\n",
    "\t\t\t#print(f'\\tis now {self.counts[new_line_name]}')\n",
    "\t\telse:\n",
    "\t\t\tself.counts[new_line_name] = 1\n",
    "\t\t\tself.friends += 1\n",
    "\t\t\t#print('\\tnew friend!')\n",
    "\n",
    "\tdef set_best_friend(self):\n",
    "\t\t\"\"\"\n",
    "\t\tSets the variables `self.best_friend` & `self.best_friend_stations`.\n",
    "\t\t\"\"\"\n",
    "\t\tmaxi = 0  # value for number of stations\n",
    "\t\tmaxi_name = None  # name of line with max number of stations\n",
    "\t\t# To indicate whether there are multiple maximums. If there are, then there are\n",
    "\t\t# technically no single best friends\n",
    "\t\toverlap = False\n",
    "\n",
    "\t\t# probably a better way to find the max value in a dictionary but i already wrote this\n",
    "\t\tfor line_name, count in self.counts.items():\n",
    "\t\t\t#if self.name == '11': print(f'checking {name} w {count}')\n",
    "\t\t\tif count > maxi:\n",
    "\t\t\t\t#if self.name == '11': print(f'\\t{name} has more than {maxi}')\n",
    "\t\t\t\toverlap = False\n",
    "\t\t\t\tmaxi_name = line_name\n",
    "\t\t\t\tmaxi = count\n",
    "\t\t\telif count == maxi:\n",
    "\t\t\t\t#if self.name == '11': print(f'\\t{name} has equal {maxi}')\n",
    "\t\t\t\toverlap = True\n",
    "\n",
    "\t\t# only set if they share more than 4 stations\n",
    "\t\tif not overlap and maxi >= 4:\n",
    "\t\t\tself.best_friend = maxi_name\n",
    "\t\t\tself.best_friend_stations = maxi\n",
    "\n",
    "\n",
    "def get_counts(only: list[str] = None, line_folder_name: str = 'lines') -> dict[str, Line]:\n",
    "\t\"\"\"\n",
    "\tPrimary wrapper to reads the station data in from the `lines` folder & returns the\n",
    "\tstatistics for every line.\n",
    "\n",
    "\t:param only: Filter specific lines to read instead of all of them.\n",
    "\t:param line_folder_name: Name of the folder containing the station data.\n",
    "\t:return: Dictionary with the key being the name of the line & the value being object `Line`\n",
    "\t\tholding the statistics for the line. The `Line` object can be verified by asserting\n",
    "\t\t`line_name == dict['line_name'].name`.\n",
    "\t\"\"\"\n",
    "\n",
    "\n",
    "\tline_counts_builder: dict[str, Line] = {}  # return variable\n",
    "\n",
    "\tfor line_index, file_name in enumerate(os.listdir(line_folder_name)):\n",
    "\n",
    "\t\t# get name & create object\n",
    "\t\tline_name = file_name.split('.')[0]\n",
    "\n",
    "\t\t# filter line if needed\n",
    "\t\tif only is not None:\n",
    "\t\t\tif line_name not in only:\n",
    "\t\t\t\tcontinue\n",
    "\n",
    "\t\tline_counts_builder[line_name] = Line(line_name)\n",
    "\n",
    "\t\t# read in stations for that line\n",
    "\t\twith open(f'{line_folder_name}/{file_name}', 'r') as station_list:\n",
    "\t\t\tfor station in station_list:\n",
    "\t\t\t\tline_counts_builder[line_name].stations.append(station.strip())\n",
    "\n",
    "\t\t# append friends\n",
    "\t\tassert line_counts_builder[line_name].counts == {}, \\\n",
    "\t\t\tf'{line_name} has already {line_counts_builder[line_name].counts}'\n",
    "\n",
    "\t\t# acquire connecting lines for respective line\n",
    "\t\tfor station in line_counts_builder[line_name].stations:\n",
    "\t\t\tconnecting_lines = set()\n",
    "\t\t\tfor edge in tg.edges(station):\n",
    "\t\t\t\tfor connecting_line in tg.get_edge_data(edge[0], edge[1])['lines']:\n",
    "\t\t\t\t\tif line_name == connecting_line: continue  # skip itself\n",
    "\t\t\t\t\tconnecting_lines.add(connecting_line)\n",
    "\t\t\tfor connecting_line in connecting_lines:\n",
    "\t\t\t\tline_counts_builder[line_name].add_count(connecting_line)\n",
    "\n",
    "\treturn line_counts_builder\n",
    "\n",
    "\n",
    "\n",
    "# add friends\n",
    "# for index, node in enumerate(tg.nodes):\n",
    "# \tfor edge in tg.edges(node):\n",
    "# \t\tprint(f'{edge}: w/ {tg.get_edge_data(edge[0], edge[1])['lines']}')\n",
    "\t# lines={line_name},"
   ],
   "id": "fb15502ec1538526",
   "outputs": [],
   "execution_count": 37
  },
  {
   "metadata": {
    "ExecuteTime": {
     "end_time": "2025-07-12T23:19:55.010862Z",
     "start_time": "2025-07-12T23:19:55.000720Z"
    }
   },
   "cell_type": "code",
   "source": [
    "#line_counts_list: list[Line] = []\n",
    "line_counts = get_counts()\n",
    "\n",
    "# for lines lacking best friends, keep an empty dictionary entry\n",
    "# line_counts['None'] = Line('None')\n",
    "# line_counts['None'].best_friend = 'Invalid'\n",
    "\n",
    "for _, line in line_counts.items():\n",
    "\t\tline.set_best_friend()\n"
   ],
   "id": "3c33ca06b1cd5404",
   "outputs": [],
   "execution_count": 38
  },
  {
   "metadata": {
    "ExecuteTime": {
     "end_time": "2025-07-12T23:19:55.056160Z",
     "start_time": "2025-07-12T23:19:55.052450Z"
    }
   },
   "cell_type": "code",
   "source": [
    "# find fake best friends\n",
    "verbose_lines = ['U4', '71']\n",
    "\n",
    "for name, line in line_counts.items():\n",
    "\tif line.name in verbose_lines:\n",
    "\t\tprint(f'\\nchecking {line.name}')\n",
    "\t\tif line.best_friend != 'None':\n",
    "\t\t\tprint(\n",
    "\t\t\t\tf'\\tits best friend is {line.best_friend}, '\n",
    "\t\t\t\tf'& their best friend is {line_counts[line.best_friend].best_friend}'\n",
    "\t\t\t)\n",
    "\t\telse:\n",
    "\t\t\tprint('\\tno best friend')\n",
    "\n",
    "\tif line.best_friend != 'None' and line.name != line_counts[line.best_friend].best_friend:\n",
    "\t\tif line.name in verbose_lines:\n",
    "\t\t\tprint(\n",
    "\t\t\t\tf'\\t{line.best_friend} '\n",
    "\t\t\t\tf'after: {line_counts[line.best_friend].best_friend_fake}'\n",
    "\t\t\t)\n",
    "\t\tline.best_friend_fake = True\n"
   ],
   "id": "7c2b1452e5cc69fc",
   "outputs": [
    {
     "name": "stdout",
     "output_type": "stream",
     "text": [
      "\n",
      "checking 71\n",
      "\tits best friend is 11, & their best friend is 71\n",
      "\n",
      "checking U4\n",
      "\tno best friend\n"
     ]
    }
   ],
   "execution_count": 39
  },
  {
   "metadata": {
    "ExecuteTime": {
     "end_time": "2025-07-12T23:19:55.105273Z",
     "start_time": "2025-07-12T23:19:55.102939Z"
    }
   },
   "cell_type": "code",
   "source": [
    "# sort\n",
    "line_counts_list = sorted(line_counts.values(), key=lambda l: l.friends, reverse=True)\n",
    "#line_counts_list.sort(key=lambda l: l.friends, reverse=True)"
   ],
   "id": "729663d019369e0",
   "outputs": [],
   "execution_count": 40
  },
  {
   "metadata": {
    "ExecuteTime": {
     "end_time": "2025-07-12T23:21:10.279396Z",
     "start_time": "2025-07-12T23:21:10.273903Z"
    }
   },
   "cell_type": "code",
   "source": [
    "# print extracted information\n",
    "\n",
    "header = [\n",
    "\t'Name',  # name of line in focus\n",
    "\t'# Friends',  # amount of lines they have a connection with\n",
    "\t'Best friend',  # the line they have the most connections with\n",
    "\t'# Shared',  # the number of stations shared with said line\n",
    "\t'Fake best friend',  # if this best friend has a different best friend of their own\n",
    "\t'Their best friend'  # said best friends actual best friend\n",
    "]\n",
    "\n",
    "header = [\n",
    "\theader_element +\n",
    "\t':' +\n",
    "\t' ' * 3  # spacing between columns\n",
    "\tfor header_element in header]\n",
    "\n",
    "print(*header, sep='', end='')\n",
    "\n",
    "for index, line in enumerate(line_counts_list):\n",
    "\tprint(\n",
    "\t\tf'\\n{line.name:<{len(header[0])}}'\n",
    "\t\tf'{line.friends:<{len(header[1])}}'\n",
    "\t\tf'{line.best_friend:<{len(header[2])}}',\n",
    "\t\tend=''\n",
    "\t)\n",
    "\tif line.best_friend != 'None':\n",
    "\t\tprint(f'{line.best_friend_stations:<{len(header[3])}}', end='')\n",
    "\t\tif line_counts[line.name].best_friend_fake:\n",
    "\t\t\tprint(\n",
    "\t\t\t\tf'{'yes':<{len(header[4])}}'\n",
    "\t\t\t\tf'{line_counts[line.best_friend].best_friend}',\n",
    "\t\t\t\tend=''\n",
    "\t\t\t)\n",
    "\t\telse:\n",
    "\t\t\tprint(f'{'no':<{len(header[4])}}', end='')\n",
    "\tif (index+1) % 10 == 0:  # for scrolling readability\n",
    "\t\tprint('\\n', *header, sep='', end='')\n",
    "\n"
   ],
   "id": "6e3f5ad9189d19c8",
   "outputs": [
    {
     "name": "stdout",
     "output_type": "stream",
     "text": [
      "Name:   # Friends:   Best friend:   # Shared:   Fake best friend:   Their best friend:   \n",
      "U6      33           None           \n",
      "D       32           71             8           yes                 11\n",
      "5       30           33             11          no                  \n",
      "71      27           11             14          no                  \n",
      "U3      27           None           \n",
      "1       27           None           \n",
      "U4      27           None           \n",
      "S4      25           S3             16          no                  \n",
      "S2      25           None           \n",
      "S3      25           S4             16          no                  \n",
      "Name:   # Friends:   Best friend:   # Shared:   Fake best friend:   Their best friend:   \n",
      "S1      25           S2             12          yes                 None\n",
      "2       24           1              6           yes                 None\n",
      "U2      24           None           \n",
      "18      23           6              9           no                  \n",
      "6       22           18             9           no                  \n",
      "U1      21           None           \n",
      "S80     21           None           \n",
      "S7      20           S2             9           yes                 None\n",
      "S45     20           None           \n",
      "44      18           43             5           no                  \n",
      "Name:   # Friends:   Best friend:   # Shared:   Fake best friend:   Their best friend:   \n",
      "43      17           44             5           no                  \n",
      "O       17           None           \n",
      "9       17           None           \n",
      "62      16           BB             14          no                  \n",
      "BB      15           62             14          no                  \n",
      "41      15           40             10          no                  \n",
      "31      15           30             12          no                  \n",
      "40      15           41             10          no                  \n",
      "33      14           5              11          no                  \n",
      "42      14           None           \n",
      "Name:   # Friends:   Best friend:   # Shared:   Fake best friend:   Their best friend:   \n",
      "38      14           37             8           no                  \n",
      "49      13           U3             4           yes                 None\n",
      "37      13           38             8           no                  \n",
      "S50     11           None           \n",
      "46      11           None           \n",
      "25      11           26             5           no                  \n",
      "26      11           25             5           no                  \n",
      "60      11           52             6           no                  \n",
      "52      10           60             6           no                  \n",
      "30      9            31             12          no                  \n",
      "Name:   # Friends:   Best friend:   # Shared:   Fake best friend:   Their best friend:   \n",
      "10      9            60             4           yes                 52\n",
      "11      8            71             14          no                  \n",
      "S40     6            D              4           yes                 71"
     ]
    }
   ],
   "execution_count": 43
  },
  {
   "metadata": {
    "ExecuteTime": {
     "end_time": "2025-07-12T23:19:55.206499Z",
     "start_time": "2025-07-12T23:19:55.203691Z"
    }
   },
   "cell_type": "code",
   "source": "",
   "id": "acd074f2b4d06701",
   "outputs": [],
   "execution_count": null
  }
 ],
 "metadata": {
  "kernelspec": {
   "display_name": "Python 3",
   "language": "python",
   "name": "python3"
  },
  "language_info": {
   "codemirror_mode": {
    "name": "ipython",
    "version": 2
   },
   "file_extension": ".py",
   "mimetype": "text/x-python",
   "name": "python",
   "nbconvert_exporter": "python",
   "pygments_lexer": "ipython2",
   "version": "2.7.6"
  }
 },
 "nbformat": 4,
 "nbformat_minor": 5
}
