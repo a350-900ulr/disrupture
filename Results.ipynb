{
 "cells": [
  {
   "metadata": {
    "ExecuteTime": {
     "end_time": "2024-09-29T19:45:59.185688Z",
     "start_time": "2024-09-29T19:45:59.167556Z"
    }
   },
   "cell_type": "code",
   "source": [
    "origin = 'Radetzkyplatz'\n",
    "target = 'Schloss Schönbrunn'\n",
    "\n",
    "\n",
    "from TransitGraph import TransitGraph as TG\n",
    "net = TG()\n",
    "net.print_fastest_path(origin, target)\n"
   ],
   "id": "1f57bc50fcc22f3f",
   "outputs": [
    {
     "name": "stdout",
     "output_type": "stream",
     "text": [
      "\n",
      "Lines used: [{'O'}, {'U4'}, {'10', '60'}]\n",
      "Calculated travel time: 34.25\n",
      "Stations: ['Radetzkyplatz', 'Hintere Zollamtsstraße', 'Marxergasse', 'Mitte-Landstraße', 'Stadtpark', 'Karlsplatz', 'Kettenbrückengasse', 'Pilgramgasse', 'Margaretengürtel', 'Längenfeldgasse', 'Meidling Hauptstraße', 'Schönbrunn', 'Hietzing', 'Schloss Schönbrunn']\n"
     ]
    }
   ],
   "execution_count": 3
  },
  {
   "cell_type": "code",
   "id": "initial_id",
   "metadata": {
    "collapsed": true,
    "ExecuteTime": {
     "end_time": "2024-09-27T20:14:58.132113Z",
     "start_time": "2024-09-27T20:12:49.565237Z"
    }
   },
   "source": [
    "%matplotlib inline\n",
    "\n",
    "from Simulator import Simulator as Sim\n",
    "\n",
    "sim = Sim(10_000)\n",
    "sim.disrupt('Meidling')\n",
    "sim.plot_delay()"
   ],
   "outputs": [
    {
     "name": "stdout",
     "output_type": "stream",
     "text": [
      "Journeys have not been simulated yet, doing now\n"
     ]
    },
    {
     "name": "stderr",
     "output_type": "stream",
     "text": [
      "Simulating journeys: 100%|██████████| 10000/10000 [01:08<00:00, 146.67it/s]\n",
      "Simulating disruption: 100%|██████████| 10000/10000 [00:59<00:00, 166.70it/s]\n"
     ]
    },
    {
     "data": {
      "text/plain": [
       "<Figure size 640x480 with 1 Axes>"
      ],
      "image/png": "[encoded data removed]"
     },
     "metadata": {},
     "output_type": "display_data"
    }
   ],
   "execution_count": 1
  },
  {
   "metadata": {
    "ExecuteTime": {
     "end_time": "2024-09-29T19:57:52.892197Z",
     "start_time": "2024-09-29T19:57:23.895536Z"
    }
   },
   "cell_type": "code",
   "source": [
    "from Scheduler import schedule_disruptions\n",
    "\n",
    "schedule_disruptions(['Schwedenplatz', 'Schottenring', 'Parlament', 'Volkstheater', 'Handelskai'])"
   ],
   "id": "3e29055102365639",
   "outputs": [
    {
     "name": "stderr",
     "output_type": "stream",
     "text": [
      "Running combinations: 100%|██████████| 10/10 [00:28<00:00,  2.87s/it]"
     ]
    },
    {
     "name": "stdout",
     "output_type": "stream",
     "text": [
      "Recommended closure order:\n",
      "('Schwedenplatz', 'Schottenring')\n",
      "('Parlament', 'Handelskai')\n",
      "Volkstheater\n"
     ]
    },
    {
     "name": "stderr",
     "output_type": "stream",
     "text": [
      "\n"
     ]
    }
   ],
   "execution_count": 1
  },
  {
   "metadata": {
    "ExecuteTime": {
     "end_time": "2024-09-29T20:37:53.892985Z",
     "start_time": "2024-09-29T20:21:17.123622Z"
    }
   },
   "cell_type": "code",
   "source": [
    "from Scheduler import schedule_disruptions\n",
    "\n",
    "schedule_disruptions([\n",
    "\t['Schwedenplatz', 'Schottenring'], \n",
    "\t['Parlament', 'Volkstheater'], \n",
    "\t'Handelskai', \n",
    "\t'Radetzkyplatz',\n",
    "\t['Schottentor', 'Schwarzspanierstraße', {'40', '41', '42'}],\n",
    "\t['Währinger Straße-Volksoper', 'Spitalgasse'],\n",
    "\t['Zieglergasse', 'Neubaugasse'],\n",
    "\t['Karlsplatz', 'Resselgasse', {'1', '62'}],\n",
    "\t'Karlsplatz',\n",
    "], resolution=1_000)"
   ],
   "id": "ae8dc7342f56be88",
   "outputs": [
    {
     "name": "stderr",
     "output_type": "stream",
     "text": [
      "Running combinations: 100%|██████████| 36/36 [16:36<00:00, 27.68s/it]"
     ]
    },
    {
     "name": "stdout",
     "output_type": "stream",
     "text": [
      "Recommended closure order:\n",
      "(['Schottentor', 'Schwarzspanierstraße', {'40', '41', '42'}], ['Karlsplatz', 'Resselgasse', {'62', '1'}])\n",
      "(['Schwedenplatz', 'Schottenring'], ['Währinger Straße-Volksoper', 'Spitalgasse'])\n",
      "(['Parlament', 'Volkstheater'], ['Zieglergasse', 'Neubaugasse'])\n",
      "('Handelskai', 'Radetzkyplatz')\n",
      "Karlsplatz\n"
     ]
    },
    {
     "name": "stderr",
     "output_type": "stream",
     "text": [
      "\n"
     ]
    }
   ],
   "execution_count": 1
  },
  {
   "metadata": {},
   "cell_type": "code",
   "outputs": [],
   "execution_count": null,
   "source": "",
   "id": "2752a92f24306cdc"
  }
 ],
 "metadata": {
  "kernelspec": {
   "display_name": "Python 3",
   "language": "python",
   "name": "python3"
  },
  "language_info": {
   "codemirror_mode": {
    "name": "ipython",
    "version": 2
   },
   "file_extension": ".py",
   "mimetype": "text/x-python",
   "name": "python",
   "nbconvert_exporter": "python",
   "pygments_lexer": "ipython2",
   "version": "2.7.6"
  }
 },
 "nbformat": 4,
 "nbformat_minor": 5
}
