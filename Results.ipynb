{
 "cells": [
  {
   "metadata": {
    "ExecuteTime": {
     "end_time": "2024-09-30T21:31:39.420370Z",
     "start_time": "2024-09-30T21:31:39.415500Z"
    }
   },
   "cell_type": "code",
   "source": [
    "from TransitGraph import TransitGraph\n",
    "print(TransitGraph().minimize_changes([\n",
    "\t{'10', '60'},\n",
    "\t{'10', '60'},\n",
    "\t{'52', '60'},\n",
    "\t{'52', '60'},\n",
    "\t{'6', '18'},\n",
    "\t{'6', '18'},\n",
    "\t{'18'},\n",
    "\t{'18', '4'},\n",
    "\t{'18'},\n",
    "\t{'18', '1'},\n",
    "\t{'18', '1'},\n",
    "\t{'1'}\n",
    "]))"
   ],
   "id": "a179b57e4eb546ad",
   "outputs": [
    {
     "name": "stdout",
     "output_type": "stream",
     "text": [
      "[{'60'}, {'18'}, {'1'}]\n"
     ]
    }
   ],
   "execution_count": 9
  },
  {
   "metadata": {
    "ExecuteTime": {
     "end_time": "2024-09-29T19:45:59.185688Z",
     "start_time": "2024-09-29T19:45:59.167556Z"
    }
   },
   "cell_type": "code",
   "source": [
    "from TransitGraph import TransitGraph\n",
    "TransitGraph().print_fastest_path('Radetzkyplatz', 'Schloss Schönbrunn')\n"
   ],
   "id": "1f57bc50fcc22f3f",
   "outputs": [
    {
     "name": "stdout",
     "output_type": "stream",
     "text": [
      "\n",
      "Lines used: [{'O'}, {'U4'}, {'10', '60'}]\n",
      "Calculated travel time: 34.25\n",
      "Stations: ['Radetzkyplatz', 'Hintere Zollamtsstraße', 'Marxergasse', 'Mitte-Landstraße', 'Stadtpark', 'Karlsplatz', 'Kettenbrückengasse', 'Pilgramgasse', 'Margaretengürtel', 'Längenfeldgasse', 'Meidling Hauptstraße', 'Schönbrunn', 'Hietzing', 'Schloss Schönbrunn']\n"
     ]
    }
   ],
   "execution_count": 3
  },
  {
   "metadata": {
    "ExecuteTime": {
     "end_time": "2024-09-30T20:47:57.397125Z",
     "start_time": "2024-09-30T20:47:57.375794Z"
    }
   },
   "cell_type": "code",
   "source": [
    "from TransitGraph import TransitGraph\n",
    "TransitGraph().print_fastest_path('Handelskai', 'Westbahnstraße/Zieglergasse')"
   ],
   "id": "669a32ae54cc1c32",
   "outputs": [
    {
     "name": "stdout",
     "output_type": "stream",
     "text": [
      "\n",
      "Lines used: [{'S2', 'S7', 'S1', 'S4', 'S3'}, {'U3'}, {'49'}]\n",
      "Calculated travel time: 34.75\n",
      "Stations: ['Handelskai', 'Traisengasse', 'Praterstern', 'Mitte-Landstraße', 'Stubentor', 'Stephansplatz', 'Herrengasse', 'Volkstheater', 'Stiftgasse', 'Siebensterngasse', 'Westbahnstraße/Neubaugasse', 'Westbahnstraße/Zieglergasse']\n"
     ]
    }
   ],
   "execution_count": 3
  },
  {
   "metadata": {
    "ExecuteTime": {
     "end_time": "2024-09-30T20:52:02.859006Z",
     "start_time": "2024-09-30T20:52:02.847844Z"
    }
   },
   "cell_type": "code",
   "source": [
    "from TransitGraph import TransitGraph\n",
    "TransitGraph().print_fastest_path('Hietzing', 'Neubaugasse')"
   ],
   "id": "d96d1e3f9b1ded20",
   "outputs": [
    {
     "name": "stdout",
     "output_type": "stream",
     "text": [
      "\n",
      "Lines used: [{'U4'}, {'U6'}, {'U3'}]\n",
      "Calculated travel time: 21.25\n",
      "Stations: ['Hietzing', 'Schönbrunn', 'Meidling Hauptstraße', 'Längenfeldgasse', 'Gumpendorfer Straße', 'Westbahnhof', 'Zieglergasse', 'Neubaugasse']\n"
     ]
    }
   ],
   "execution_count": 4
  },
  {
   "cell_type": "code",
   "id": "initial_id",
   "metadata": {
    "collapsed": true,
    "ExecuteTime": {
     "end_time": "2024-09-27T20:14:58.132113Z",
     "start_time": "2024-09-27T20:12:49.565237Z"
    }
   },
   "source": [
    "%matplotlib inline\n",
    "\n",
    "from Simulator import Simulator\n",
    "\n",
    "sim = Simulator(10_000)\n",
    "sim.disrupt('Meidling')\n",
    "sim.plot_delay()"
   ],
   "outputs": [
    {
     "name": "stdout",
     "output_type": "stream",
     "text": [
      "Journeys have not been simulated yet, doing now\n"
     ]
    },
    {
     "name": "stderr",
     "output_type": "stream",
     "text": [
      "Simulating journeys: 100%|██████████| 10000/10000 [01:08<00:00, 146.67it/s]\n",
      "Simulating disruption: 100%|██████████| 10000/10000 [00:59<00:00, 166.70it/s]\n"
     ]
    },
    {
     "data": {
      "text/plain": [
       "<Figure size 640x480 with 1 Axes>"
      ],
      "image/png": "[encoded data removed]"
     },
     "metadata": {},
     "output_type": "display_data"
    }
   ],
   "execution_count": 1
  },
  {
   "metadata": {
    "ExecuteTime": {
     "end_time": "2024-09-30T21:14:45.853528Z",
     "start_time": "2024-09-30T20:58:51.648670Z"
    }
   },
   "cell_type": "code",
   "source": [
    "%matplotlib inline\n",
    "\n",
    "from Simulator import Simulator\n",
    "\n",
    "sim = Simulator(10_000)\n",
    "sim.disrupt('Schlachthausgasse')\n",
    "sim.disrupt(['Schottentor', 'Rathausplatz/Burgtheater'])\n",
    "sim.simulate_disruption()\n",
    "sim.plot_delay()"
   ],
   "id": "d52bbf37dbceedf7",
   "outputs": [
    {
     "name": "stdout",
     "output_type": "stream",
     "text": [
      "Journeys have not been simulated yet, doing now\n"
     ]
    },
    {
     "name": "stderr",
     "output_type": "stream",
     "text": [
      "Simulating journeys: 100%|██████████| 10000/10000 [02:23<00:00, 69.56it/s]\n",
      "Simulating disruption: 100%|██████████| 10000/10000 [13:29<00:00, 12.35it/s]\n"
     ]
    },
    {
     "data": {
      "text/plain": [
       "<Figure size 640x480 with 1 Axes>"
      ],
      "image/png": "[encoded data removed]"
     },
     "metadata": {},
     "output_type": "display_data"
    }
   ],
   "execution_count": 7
  },
  {
   "metadata": {
    "ExecuteTime": {
     "end_time": "2024-09-30T21:14:45.878800Z",
     "start_time": "2024-09-30T21:14:45.857996Z"
    }
   },
   "cell_type": "code",
   "source": "sim.get_stats()",
   "id": "85489d0b3991231b",
   "outputs": [
    {
     "data": {
      "text/plain": [
       "{'score': np.float64(16402.5026711263),\n",
       " 'journeys_delayed': 720,\n",
       " 'journeys_faster': 61,\n",
       " 'journeys_canceled': 43,\n",
       " 'journeys_total': 10000,\n",
       " 'delay_times': {'min': -16.5,\n",
       "  'median': np.float64(3.75),\n",
       "  'mean': np.float64(4.462400554868165),\n",
       "  'max': 28.5},\n",
       " 'delay_times_perc': {'min': -40.0,\n",
       "  'median': np.float64(9.523809523809518),\n",
       "  'mean': np.float64(16.80903148767542),\n",
       "  'max': 238.46153846153845}}"
      ]
     },
     "execution_count": 8,
     "metadata": {},
     "output_type": "execute_result"
    }
   ],
   "execution_count": 8
  },
  {
   "metadata": {
    "ExecuteTime": {
     "end_time": "2024-09-29T19:57:52.892197Z",
     "start_time": "2024-09-29T19:57:23.895536Z"
    }
   },
   "cell_type": "code",
   "source": [
    "from Scheduler import schedule_disruptions\n",
    "\n",
    "schedule_disruptions(['Schwedenplatz', 'Schottenring', 'Parlament', 'Volkstheater', 'Handelskai'])"
   ],
   "id": "3e29055102365639",
   "outputs": [
    {
     "name": "stderr",
     "output_type": "stream",
     "text": [
      "Running combinations: 100%|██████████| 10/10 [00:28<00:00,  2.87s/it]"
     ]
    },
    {
     "name": "stdout",
     "output_type": "stream",
     "text": [
      "Recommended closure order:\n",
      "('Schwedenplatz', 'Schottenring')\n",
      "('Parlament', 'Handelskai')\n",
      "Volkstheater\n"
     ]
    },
    {
     "name": "stderr",
     "output_type": "stream",
     "text": [
      "\n"
     ]
    }
   ],
   "execution_count": 1
  },
  {
   "metadata": {
    "ExecuteTime": {
     "end_time": "2024-09-29T20:37:53.892985Z",
     "start_time": "2024-09-29T20:21:17.123622Z"
    }
   },
   "cell_type": "code",
   "source": [
    "from Scheduler import schedule_disruptions\n",
    "\n",
    "schedule_disruptions([\n",
    "\t['Schwedenplatz', 'Schottenring'], \n",
    "\t['Parlament', 'Volkstheater'], \n",
    "\t'Handelskai', \n",
    "\t'Radetzkyplatz',\n",
    "\t['Schottentor', 'Schwarzspanierstraße', {'40', '41', '42'}],\n",
    "\t['Währinger Straße-Volksoper', 'Spitalgasse'],\n",
    "\t['Zieglergasse', 'Neubaugasse'],\n",
    "\t['Karlsplatz', 'Resselgasse', {'1', '62'}],\n",
    "\t'Karlsplatz',\n",
    "], journey_count=1_000)"
   ],
   "id": "ae8dc7342f56be88",
   "outputs": [
    {
     "name": "stderr",
     "output_type": "stream",
     "text": [
      "Running combinations: 100%|██████████| 36/36 [16:36<00:00, 27.68s/it]"
     ]
    },
    {
     "name": "stdout",
     "output_type": "stream",
     "text": [
      "Recommended closure order:\n",
      "(['Schottentor', 'Schwarzspanierstraße', {'40', '41', '42'}], ['Karlsplatz', 'Resselgasse', {'62', '1'}])\n",
      "(['Schwedenplatz', 'Schottenring'], ['Währinger Straße-Volksoper', 'Spitalgasse'])\n",
      "(['Parlament', 'Volkstheater'], ['Zieglergasse', 'Neubaugasse'])\n",
      "('Handelskai', 'Radetzkyplatz')\n",
      "Karlsplatz\n"
     ]
    },
    {
     "name": "stderr",
     "output_type": "stream",
     "text": [
      "\n"
     ]
    }
   ],
   "execution_count": 1
  },
  {
   "metadata": {
    "ExecuteTime": {
     "end_time": "2024-09-30T20:41:28.163197Z",
     "start_time": "2024-09-30T17:54:42.335333Z"
    }
   },
   "cell_type": "code",
   "source": [
    "from Scheduler import schedule_disruptions\n",
    "\n",
    "schedule_disruptions([\n",
    "\t['Schwedenplatz', 'Schottenring'],\n",
    "\t['Parlament', 'Volkstheater'],\n",
    "\t'Handelskai',\n",
    "\t'Radetzkyplatz',\n",
    "\t['Schottentor', 'Schwarzspanierstraße', {'40', '41', '42'}],\n",
    "\t['Währinger Straße-Volksoper', 'Spitalgasse'],\n",
    "\t['Zieglergasse', 'Neubaugasse'],\n",
    "\t['Karlsplatz', 'Resselgasse', {'1', '62'}],\n",
    "\t'Karlsplatz',\n",
    "], journey_count=10_000, paths_before_transfers=15)"
   ],
   "id": "2752a92f24306cdc",
   "outputs": [
    {
     "name": "stderr",
     "output_type": "stream",
     "text": [
      "Running combinations: 100%|██████████| 36/36 [2:46:45<00:00, 277.93s/it]  "
     ]
    },
    {
     "name": "stdout",
     "output_type": "stream",
     "text": [
      "Recommended closure order:\n",
      "(['Schottentor', 'Schwarzspanierstraße', {'40', '42', '41'}], ['Karlsplatz', 'Resselgasse', {'62', '1'}])\n",
      "(['Schwedenplatz', 'Schottenring'], ['Währinger Straße-Volksoper', 'Spitalgasse'])\n",
      "(['Parlament', 'Volkstheater'], ['Zieglergasse', 'Neubaugasse'])\n",
      "('Handelskai', 'Radetzkyplatz')\n",
      "Karlsplatz\n"
     ]
    },
    {
     "name": "stderr",
     "output_type": "stream",
     "text": [
      "\n"
     ]
    }
   ],
   "execution_count": 1
  },
  {
   "metadata": {},
   "cell_type": "code",
   "outputs": [],
   "execution_count": null,
   "source": "",
   "id": "1d303c89c124d330"
  }
 ],
 "metadata": {
  "kernelspec": {
   "display_name": "Python 3",
   "language": "python",
   "name": "python3"
  },
  "language_info": {
   "codemirror_mode": {
    "name": "ipython",
    "version": 2
   },
   "file_extension": ".py",
   "mimetype": "text/x-python",
   "name": "python",
   "nbconvert_exporter": "python",
   "pygments_lexer": "ipython2",
   "version": "2.7.6"
  }
 },
 "nbformat": 4,
 "nbformat_minor": 5
}
